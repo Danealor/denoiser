{
 "cells": [
  {
   "cell_type": "code",
   "execution_count": 1,
   "metadata": {},
   "outputs": [],
   "source": [
    "%load_ext autoreload\n",
    "%autoreload 1"
   ]
  },
  {
   "cell_type": "code",
   "execution_count": 2,
   "metadata": {},
   "outputs": [],
   "source": [
    "import tensorflow as tf\n",
    "from tensorflow import keras\n",
    "from tensorflow.keras import layers\n",
    "from tensorflow.data import Dataset"
   ]
  },
  {
   "cell_type": "code",
   "execution_count": 7,
   "metadata": {},
   "outputs": [
    {
     "name": "stdout",
     "output_type": "stream",
     "text": [
      "Loading audio metadata... 16.1%\r"
     ]
    },
    {
     "ename": "KeyboardInterrupt",
     "evalue": "",
     "output_type": "error",
     "traceback": [
      "\u001b[1;31m---------------------------------------------------------------------------\u001b[0m",
      "\u001b[1;31mKeyboardInterrupt\u001b[0m                         Traceback (most recent call last)",
      "\u001b[1;32m<ipython-input-7-4ddcac5e1272>\u001b[0m in \u001b[0;36m<module>\u001b[1;34m\u001b[0m\n\u001b[0;32m      1\u001b[0m \u001b[1;32mfrom\u001b[0m \u001b[0mdenoiser\u001b[0m \u001b[1;32mimport\u001b[0m \u001b[0maudio\u001b[0m\u001b[1;33m\u001b[0m\u001b[1;33m\u001b[0m\u001b[0m\n\u001b[0;32m      2\u001b[0m \u001b[0mpath\u001b[0m \u001b[1;33m=\u001b[0m \u001b[1;34m'D:\\\\Amit\\\\Documents\\\\ML Datasets\\\\Audio (Speech)\\\\Valentini\\\\clean_trainset_56spk_wav\\\\'\u001b[0m\u001b[1;33m\u001b[0m\u001b[1;33m\u001b[0m\u001b[0m\n\u001b[1;32m----> 3\u001b[1;33m \u001b[0mmeta\u001b[0m \u001b[1;33m=\u001b[0m \u001b[0maudio\u001b[0m\u001b[1;33m.\u001b[0m\u001b[0mfind_audio_files\u001b[0m\u001b[1;33m(\u001b[0m\u001b[0mpath\u001b[0m\u001b[1;33m)\u001b[0m\u001b[1;33m\u001b[0m\u001b[1;33m\u001b[0m\u001b[0m\n\u001b[0m\u001b[0;32m      4\u001b[0m \u001b[0mmeta\u001b[0m\u001b[1;33m[\u001b[0m\u001b[1;33m:\u001b[0m\u001b[1;36m10\u001b[0m\u001b[1;33m]\u001b[0m\u001b[1;33m\u001b[0m\u001b[1;33m\u001b[0m\u001b[0m\n",
      "\u001b[1;32mD:\\Amit\\Documents\\GitHub\\denoiser\\denoiser\\audio.py\u001b[0m in \u001b[0;36mfind_audio_files\u001b[1;34m(path, exts, progress)\u001b[0m\n\u001b[0;32m     36\u001b[0m     \u001b[0mmeta\u001b[0m \u001b[1;33m=\u001b[0m \u001b[1;33m[\u001b[0m\u001b[1;33m]\u001b[0m\u001b[1;33m\u001b[0m\u001b[1;33m\u001b[0m\u001b[0m\n\u001b[0;32m     37\u001b[0m     \u001b[1;32mfor\u001b[0m \u001b[0midx\u001b[0m\u001b[1;33m,\u001b[0m \u001b[0mfile\u001b[0m \u001b[1;32min\u001b[0m \u001b[0menumerate\u001b[0m\u001b[1;33m(\u001b[0m\u001b[0maudio_files\u001b[0m\u001b[1;33m)\u001b[0m\u001b[1;33m:\u001b[0m\u001b[1;33m\u001b[0m\u001b[1;33m\u001b[0m\u001b[0m\n\u001b[1;32m---> 38\u001b[1;33m         \u001b[0minfo\u001b[0m \u001b[1;33m=\u001b[0m \u001b[0mget_info\u001b[0m\u001b[1;33m(\u001b[0m\u001b[0mfile\u001b[0m\u001b[1;33m)\u001b[0m\u001b[1;33m\u001b[0m\u001b[1;33m\u001b[0m\u001b[0m\n\u001b[0m\u001b[0;32m     39\u001b[0m         \u001b[0mmeta\u001b[0m\u001b[1;33m.\u001b[0m\u001b[0mappend\u001b[0m\u001b[1;33m(\u001b[0m\u001b[1;33m(\u001b[0m\u001b[0mfile\u001b[0m\u001b[1;33m,\u001b[0m \u001b[0mint\u001b[0m\u001b[1;33m(\u001b[0m\u001b[0minfo\u001b[0m\u001b[1;33m.\u001b[0m\u001b[0mlength\u001b[0m\u001b[1;33m)\u001b[0m\u001b[1;33m)\u001b[0m\u001b[1;33m)\u001b[0m\u001b[1;33m\u001b[0m\u001b[1;33m\u001b[0m\u001b[0m\n\u001b[0;32m     40\u001b[0m         \u001b[1;32mif\u001b[0m \u001b[0mprogress\u001b[0m\u001b[1;33m:\u001b[0m\u001b[1;33m\u001b[0m\u001b[1;33m\u001b[0m\u001b[0m\n",
      "\u001b[1;32mD:\\Amit\\Documents\\GitHub\\denoiser\\denoiser\\audio.py\u001b[0m in \u001b[0;36mget_info\u001b[1;34m(path)\u001b[0m\n\u001b[0;32m     21\u001b[0m \u001b[1;33m\u001b[0m\u001b[0m\n\u001b[0;32m     22\u001b[0m \u001b[1;32mdef\u001b[0m \u001b[0mget_info\u001b[0m\u001b[1;33m(\u001b[0m\u001b[0mpath\u001b[0m\u001b[1;33m)\u001b[0m\u001b[1;33m:\u001b[0m\u001b[1;33m\u001b[0m\u001b[1;33m\u001b[0m\u001b[0m\n\u001b[1;32m---> 23\u001b[1;33m     \u001b[0mdata\u001b[0m \u001b[1;33m=\u001b[0m \u001b[0mtfio\u001b[0m\u001b[1;33m.\u001b[0m\u001b[0maudio\u001b[0m\u001b[1;33m.\u001b[0m\u001b[0mAudioIOTensor\u001b[0m\u001b[1;33m(\u001b[0m\u001b[0mpath\u001b[0m\u001b[1;33m)\u001b[0m\u001b[1;33m\u001b[0m\u001b[1;33m\u001b[0m\u001b[0m\n\u001b[0m\u001b[0;32m     24\u001b[0m     return Info(get_static_value(data.shape[0]), \n\u001b[0;32m     25\u001b[0m                 \u001b[0mget_static_value\u001b[0m\u001b[1;33m(\u001b[0m\u001b[0mdata\u001b[0m\u001b[1;33m.\u001b[0m\u001b[0mrate\u001b[0m\u001b[1;33m)\u001b[0m\u001b[1;33m,\u001b[0m\u001b[1;33m\u001b[0m\u001b[1;33m\u001b[0m\u001b[0m\n",
      "\u001b[1;32m~\\AppData\\Local\\Programs\\Python\\Python38\\lib\\site-packages\\tensorflow_io\\core\\python\\ops\\audio_ops.py\u001b[0m in \u001b[0;36m__init__\u001b[1;34m(self, filename, dtype)\u001b[0m\n\u001b[0;32m    234\u001b[0m             \u001b[1;32mif\u001b[0m \u001b[1;32mnot\u001b[0m \u001b[0mtf\u001b[0m\u001b[1;33m.\u001b[0m\u001b[0mexecuting_eagerly\u001b[0m\u001b[1;33m(\u001b[0m\u001b[1;33m)\u001b[0m\u001b[1;33m:\u001b[0m\u001b[1;33m\u001b[0m\u001b[1;33m\u001b[0m\u001b[0m\n\u001b[0;32m    235\u001b[0m                 \u001b[1;32massert\u001b[0m \u001b[0mdtype\u001b[0m \u001b[1;32mis\u001b[0m \u001b[1;32mnot\u001b[0m \u001b[1;32mNone\u001b[0m\u001b[1;33m,\u001b[0m \u001b[1;34m\"dtype must be provided in graph mode\"\u001b[0m\u001b[1;33m\u001b[0m\u001b[1;33m\u001b[0m\u001b[0m\n\u001b[1;32m--> 236\u001b[1;33m             \u001b[0mresource\u001b[0m \u001b[1;33m=\u001b[0m \u001b[0mcore_ops\u001b[0m\u001b[1;33m.\u001b[0m\u001b[0mio_audio_readable_init\u001b[0m\u001b[1;33m(\u001b[0m\u001b[0mfilename\u001b[0m\u001b[1;33m)\u001b[0m\u001b[1;33m\u001b[0m\u001b[1;33m\u001b[0m\u001b[0m\n\u001b[0m\u001b[0;32m    237\u001b[0m             \u001b[1;32mif\u001b[0m \u001b[0mtf\u001b[0m\u001b[1;33m.\u001b[0m\u001b[0mexecuting_eagerly\u001b[0m\u001b[1;33m(\u001b[0m\u001b[1;33m)\u001b[0m\u001b[1;33m:\u001b[0m\u001b[1;33m\u001b[0m\u001b[1;33m\u001b[0m\u001b[0m\n\u001b[0;32m    238\u001b[0m                 \u001b[0mshape\u001b[0m\u001b[1;33m,\u001b[0m \u001b[0mdtype\u001b[0m\u001b[1;33m,\u001b[0m \u001b[0mrate\u001b[0m \u001b[1;33m=\u001b[0m \u001b[0mcore_ops\u001b[0m\u001b[1;33m.\u001b[0m\u001b[0mio_audio_readable_spec\u001b[0m\u001b[1;33m(\u001b[0m\u001b[0mresource\u001b[0m\u001b[1;33m)\u001b[0m\u001b[1;33m\u001b[0m\u001b[1;33m\u001b[0m\u001b[0m\n",
      "\u001b[1;32m<string>\u001b[0m in \u001b[0;36mio_audio_readable_init\u001b[1;34m(input, container, shared_name, name)\u001b[0m\n",
      "\u001b[1;32m<string>\u001b[0m in \u001b[0;36mio_audio_readable_init_eager_fallback\u001b[1;34m(input, container, shared_name, name, ctx)\u001b[0m\n",
      "\u001b[1;32m~\\AppData\\Local\\Programs\\Python\\Python38\\lib\\site-packages\\tensorflow\\python\\eager\\execute.py\u001b[0m in \u001b[0;36mquick_execute\u001b[1;34m(op_name, num_outputs, inputs, attrs, ctx, name)\u001b[0m\n\u001b[0;32m     57\u001b[0m   \u001b[1;32mtry\u001b[0m\u001b[1;33m:\u001b[0m\u001b[1;33m\u001b[0m\u001b[1;33m\u001b[0m\u001b[0m\n\u001b[0;32m     58\u001b[0m     \u001b[0mctx\u001b[0m\u001b[1;33m.\u001b[0m\u001b[0mensure_initialized\u001b[0m\u001b[1;33m(\u001b[0m\u001b[1;33m)\u001b[0m\u001b[1;33m\u001b[0m\u001b[1;33m\u001b[0m\u001b[0m\n\u001b[1;32m---> 59\u001b[1;33m     tensors = pywrap_tfe.TFE_Py_Execute(ctx._handle, device_name, op_name,\n\u001b[0m\u001b[0;32m     60\u001b[0m                                         inputs, attrs, num_outputs)\n\u001b[0;32m     61\u001b[0m   \u001b[1;32mexcept\u001b[0m \u001b[0mcore\u001b[0m\u001b[1;33m.\u001b[0m\u001b[0m_NotOkStatusException\u001b[0m \u001b[1;32mas\u001b[0m \u001b[0me\u001b[0m\u001b[1;33m:\u001b[0m\u001b[1;33m\u001b[0m\u001b[1;33m\u001b[0m\u001b[0m\n",
      "\u001b[1;31mKeyboardInterrupt\u001b[0m: "
     ]
    }
   ],
   "source": [
    "from denoiser import audio\n",
    "path = 'D:\\\\Amit\\\\Documents\\\\ML Datasets\\\\Audio (Speech)\\\\Valentini\\\\clean_trainset_56spk_wav\\\\'\n",
    "meta = audio.find_audio_files(path)\n",
    "meta[:10]"
   ]
  },
  {
   "cell_type": "code",
   "execution_count": 6,
   "metadata": {},
   "outputs": [
    {
     "name": "stdout",
     "output_type": "stream",
     "text": [
      "2388\n",
      "[   0    0 2388 4436]\n"
     ]
    }
   ],
   "source": [
    "from denoiser.utils import LengthCalc\n",
    "import numpy as np\n",
    "calc = LengthCalc(5,8,4)\n",
    "print(calc.first_greater(31))\n",
    "print(calc.first_lower(np.array([0,2000,3000,5000])))"
   ]
  },
  {
   "cell_type": "code",
   "execution_count": 6,
   "metadata": {},
   "outputs": [
    {
     "data": {
      "text/plain": [
       "'path/to/data\\\\**\\\\*.wav'"
      ]
     },
     "execution_count": 6,
     "metadata": {},
     "output_type": "execute_result"
    }
   ],
   "source": [
    "import os\n",
    "os.path.join('path/to/data','**','*.wav')"
   ]
  },
  {
   "cell_type": "code",
   "execution_count": 10,
   "metadata": {},
   "outputs": [
    {
     "name": "stdout",
     "output_type": "stream",
     "text": [
      "Loading audio metadata... 16.7%\r",
      "Loading audio metadata... 33.3%\r",
      "Loading audio metadata... 50.0%\r",
      "Loading audio metadata... 66.7%\r",
      "Loading audio metadata... 83.3%\r",
      "Loading audio metadata... 100.0%\r",
      "Loading audio metadata... Done! \n"
     ]
    },
    {
     "data": {
      "text/plain": [
       "[('D:\\\\Amit\\\\Documents\\\\GitHub\\\\denoiser\\\\dataset\\\\debug\\\\clean\\\\p287_001.wav',\n",
       "  31367),\n",
       " ('D:\\\\Amit\\\\Documents\\\\GitHub\\\\denoiser\\\\dataset\\\\debug\\\\clean\\\\p287_002.wav',\n",
       "  52086),\n",
       " ('D:\\\\Amit\\\\Documents\\\\GitHub\\\\denoiser\\\\dataset\\\\debug\\\\clean\\\\p287_003.wav',\n",
       "  115715),\n",
       " ('D:\\\\Amit\\\\Documents\\\\GitHub\\\\denoiser\\\\dataset\\\\debug\\\\clean\\\\p287_004.wav',\n",
       "  77781),\n",
       " ('D:\\\\Amit\\\\Documents\\\\GitHub\\\\denoiser\\\\dataset\\\\debug\\\\clean\\\\p287_005.wav',\n",
       "  103896),\n",
       " ('D:\\\\Amit\\\\Documents\\\\GitHub\\\\denoiser\\\\dataset\\\\debug\\\\clean\\\\p287_006.wav',\n",
       "  81271)]"
      ]
     },
     "execution_count": 10,
     "metadata": {},
     "output_type": "execute_result"
    }
   ],
   "source": [
    "%aimport denoiser.audio\n",
    "from denoiser import audio\n",
    "path = 'D:\\\\Amit\\\\Documents\\\\GitHub\\\\denoiser\\\\dataset\\\\debug\\\\clean\\\\'\n",
    "meta = audio.find_audio_files(path)\n",
    "meta"
   ]
  },
  {
   "cell_type": "code",
   "execution_count": 11,
   "metadata": {},
   "outputs": [
    {
     "data": {
      "text/plain": [
       "[Info(length=31367, sample_rate=16000, channels=1),\n",
       " Info(length=52086, sample_rate=16000, channels=1),\n",
       " Info(length=115715, sample_rate=16000, channels=1),\n",
       " Info(length=77781, sample_rate=16000, channels=1),\n",
       " Info(length=103896, sample_rate=16000, channels=1),\n",
       " Info(length=81271, sample_rate=16000, channels=1)]"
      ]
     },
     "execution_count": 11,
     "metadata": {},
     "output_type": "execute_result"
    }
   ],
   "source": [
    "[audio.get_info(path) for path,length in meta]"
   ]
  },
  {
   "cell_type": "code",
   "execution_count": 7,
   "metadata": {},
   "outputs": [],
   "source": [
    "%aimport denoiser.data\n",
    "from denoiser import data"
   ]
  },
  {
   "cell_type": "code",
   "execution_count": 8,
   "metadata": {},
   "outputs": [
    {
     "data": {
      "text/plain": [
       "[(b'D:\\\\Amit\\\\Documents\\\\GitHub\\\\denoiser\\\\dataset\\\\debug\\\\noisy\\\\p287_001.wav',\n",
       "  b'D:\\\\Amit\\\\Documents\\\\GitHub\\\\denoiser\\\\dataset\\\\debug\\\\clean\\\\p287_001.wav'),\n",
       " (b'D:\\\\Amit\\\\Documents\\\\GitHub\\\\denoiser\\\\dataset\\\\debug\\\\noisy\\\\p287_002.wav',\n",
       "  b'D:\\\\Amit\\\\Documents\\\\GitHub\\\\denoiser\\\\dataset\\\\debug\\\\clean\\\\p287_002.wav'),\n",
       " (b'D:\\\\Amit\\\\Documents\\\\GitHub\\\\denoiser\\\\dataset\\\\debug\\\\noisy\\\\p287_003.wav',\n",
       "  b'D:\\\\Amit\\\\Documents\\\\GitHub\\\\denoiser\\\\dataset\\\\debug\\\\clean\\\\p287_003.wav'),\n",
       " (b'D:\\\\Amit\\\\Documents\\\\GitHub\\\\denoiser\\\\dataset\\\\debug\\\\noisy\\\\p287_004.wav',\n",
       "  b'D:\\\\Amit\\\\Documents\\\\GitHub\\\\denoiser\\\\dataset\\\\debug\\\\clean\\\\p287_004.wav'),\n",
       " (b'D:\\\\Amit\\\\Documents\\\\GitHub\\\\denoiser\\\\dataset\\\\debug\\\\noisy\\\\p287_005.wav',\n",
       "  b'D:\\\\Amit\\\\Documents\\\\GitHub\\\\denoiser\\\\dataset\\\\debug\\\\clean\\\\p287_005.wav'),\n",
       " (b'D:\\\\Amit\\\\Documents\\\\GitHub\\\\denoiser\\\\dataset\\\\debug\\\\noisy\\\\p287_006.wav',\n",
       "  b'D:\\\\Amit\\\\Documents\\\\GitHub\\\\denoiser\\\\dataset\\\\debug\\\\clean\\\\p287_006.wav')]"
      ]
     },
     "execution_count": 8,
     "metadata": {},
     "output_type": "execute_result"
    }
   ],
   "source": [
    "path = 'D:\\\\Amit\\\\Documents\\\\GitHub\\\\denoiser\\\\egs\\\\debug\\\\tr\\\\'\n",
    "files_ds = data.load_files(path)\n",
    "list(files_ds.as_numpy_iterator())"
   ]
  },
  {
   "cell_type": "code",
   "execution_count": 9,
   "metadata": {},
   "outputs": [
    {
     "data": {
      "text/plain": [
       "[((31367, 1), (31367, 1)),\n",
       " ((52086, 1), (52086, 1)),\n",
       " ((115715, 1), (115715, 1)),\n",
       " ((77781, 1), (77781, 1)),\n",
       " ((103896, 1), (103896, 1)),\n",
       " ((81271, 1), (81271, 1))]"
      ]
     },
     "execution_count": 9,
     "metadata": {},
     "output_type": "execute_result"
    }
   ],
   "source": [
    "audio_ds = data.generate_audio(files_ds)\n",
    "audio = list(audio_ds.as_numpy_iterator())\n",
    "[(a.shape,b.shape) for a,b in audio]"
   ]
  },
  {
   "cell_type": "code",
   "execution_count": 85,
   "metadata": {},
   "outputs": [
    {
     "data": {
      "text/html": [
       "\n",
       "                <audio  controls=\"controls\" >\n",
       "                    <source src=\"data:audio/wav;base64,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\" type=\"audio/wav\" />\n",
       "                    Your browser does not support the audio element.\n",
       "                </audio>\n",
       "              "
      ],
      "text/plain": [
       "<IPython.lib.display.Audio object>"
      ]
     },
     "execution_count": 85,
     "metadata": {},
     "output_type": "execute_result"
    }
   ],
   "source": [
    "from IPython.display import Audio\n",
    "import numpy as np\n",
    "Audio(audio[0][0].reshape((1,-1)), rate=16000)"
   ]
  },
  {
   "cell_type": "code",
   "execution_count": 69,
   "metadata": {},
   "outputs": [],
   "source": [
    "def unzip(dataset):\n",
    "    return tuple(\n",
    "        dataset.map(lambda *x: x[i])\n",
    "        for i in range(len(dataset.element_spec)))"
   ]
  },
  {
   "cell_type": "code",
   "execution_count": 83,
   "metadata": {},
   "outputs": [
    {
     "data": {
      "text/plain": [
       "[(31367, 1), (52086, 1), (115715, 1), (77781, 1), (103896, 1), (81271, 1)]"
      ]
     },
     "execution_count": 83,
     "metadata": {},
     "output_type": "execute_result"
    }
   ],
   "source": [
    "noisy_ds, clean_ds = unzip(files_ds)\n",
    "noisy_audio_ds = data.generate_audio(noisy_ds)\n",
    "[x.shape for x in noisy_audio_ds.as_numpy_iterator()]"
   ]
  },
  {
   "cell_type": "code",
   "execution_count": 9,
   "metadata": {
    "scrolled": true
   },
   "outputs": [
    {
     "data": {
      "text/plain": [
       "[((32000, 1), (32000, 1)),\n",
       " ((32000, 1), (32000, 1)),\n",
       " ((32000, 1), (32000, 1)),\n",
       " ((32000, 1), (32000, 1)),\n",
       " ((32000, 1), (32000, 1)),\n",
       " ((32000, 1), (32000, 1)),\n",
       " ((32000, 1), (32000, 1)),\n",
       " ((32000, 1), (32000, 1)),\n",
       " ((32000, 1), (32000, 1)),\n",
       " ((32000, 1), (32000, 1)),\n",
       " ((32000, 1), (32000, 1)),\n",
       " ((32000, 1), (32000, 1)),\n",
       " ((32000, 1), (32000, 1)),\n",
       " ((32000, 1), (32000, 1)),\n",
       " ((32000, 1), (32000, 1)),\n",
       " ((32000, 1), (32000, 1)),\n",
       " ((32000, 1), (32000, 1)),\n",
       " ((32000, 1), (32000, 1)),\n",
       " ((32000, 1), (32000, 1)),\n",
       " ((32000, 1), (32000, 1)),\n",
       " ((32000, 1), (32000, 1)),\n",
       " ((32000, 1), (32000, 1)),\n",
       " ((32000, 1), (32000, 1)),\n",
       " ((32000, 1), (32000, 1)),\n",
       " ((32000, 1), (32000, 1)),\n",
       " ((32000, 1), (32000, 1)),\n",
       " ((32000, 1), (32000, 1)),\n",
       " ((32000, 1), (32000, 1)),\n",
       " ((32000, 1), (32000, 1)),\n",
       " ((32000, 1), (32000, 1)),\n",
       " ((32000, 1), (32000, 1)),\n",
       " ((32000, 1), (32000, 1)),\n",
       " ((32000, 1), (32000, 1)),\n",
       " ((32000, 1), (32000, 1)),\n",
       " ((32000, 1), (32000, 1)),\n",
       " ((32000, 1), (32000, 1))]"
      ]
     },
     "execution_count": 9,
     "metadata": {},
     "output_type": "execute_result"
    }
   ],
   "source": [
    "examples_ds = data.generate_examples(audio_ds, length=16000*2, stride=16000//2)\n",
    "[(a.shape,b.shape) for a,b in examples_ds.as_numpy_iterator()]"
   ]
  },
  {
   "cell_type": "code",
   "execution_count": 113,
   "metadata": {},
   "outputs": [
    {
     "data": {
      "text/html": [
       "\n",
       "                <audio  controls=\"controls\" >\n",
       "                    <source src=\"data:audio/wav;base64,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\" type=\"audio/wav\" />\n",
       "                    Your browser does not support the audio element.\n",
       "                </audio>\n",
       "              "
      ],
      "text/plain": [
       "<IPython.lib.display.Audio object>"
      ]
     },
     "execution_count": 113,
     "metadata": {},
     "output_type": "execute_result"
    }
   ],
   "source": [
    "noisy_ex, clean_ex = [(a,b) for a,b in examples_ds.as_numpy_iterator()][9]\n",
    "Audio(noisy_ex.reshape((1,-1)), rate=16000)"
   ]
  },
  {
   "cell_type": "code",
   "execution_count": 114,
   "metadata": {},
   "outputs": [
    {
     "data": {
      "text/html": [
       "\n",
       "                <audio  controls=\"controls\" >\n",
       "                    <source src=\"data:audio/wav;base64,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\" type=\"audio/wav\" />\n",
       "                    Your browser does not support the audio element.\n",
       "                </audio>\n",
       "              "
      ],
      "text/plain": [
       "<IPython.lib.display.Audio object>"
      ]
     },
     "execution_count": 114,
     "metadata": {},
     "output_type": "execute_result"
    }
   ],
   "source": [
    "Audio(clean_ex.reshape((1,-1)), rate=16000)"
   ]
  },
  {
   "cell_type": "code",
   "execution_count": 7,
   "metadata": {},
   "outputs": [
    {
     "data": {
      "text/plain": [
       "[(((31367, 1), 31367), ((31367, 1), 31367)),\n",
       " (((52086, 1), 52086), ((52086, 1), 52086)),\n",
       " (((115715, 1), 115715), ((115715, 1), 115715)),\n",
       " (((77781, 1), 77781), ((77781, 1), 77781)),\n",
       " (((103896, 1), 103896), ((103896, 1), 103896)),\n",
       " (((81271, 1), 81271), ((81271, 1), 81271))]"
      ]
     },
     "execution_count": 7,
     "metadata": {},
     "output_type": "execute_result"
    }
   ],
   "source": [
    "samples_ds = data.generate_samples(audio_ds)\n",
    "[((a[0].shape,a[1]),(b[0].shape,b[1])) for a,b in samples_ds.as_numpy_iterator()]"
   ]
  },
  {
   "cell_type": "code",
   "execution_count": 8,
   "metadata": {},
   "outputs": [
    {
     "data": {
      "text/plain": [
       "[(((3, 115715, 1), array([ 31367,  52086, 115715])),\n",
       "  ((3, 115715, 1), array([ 31367,  52086, 115715]))),\n",
       " (((3, 103896, 1), array([ 77781, 103896,  81271])),\n",
       "  ((3, 103896, 1), array([ 77781, 103896,  81271])))]"
      ]
     },
     "execution_count": 8,
     "metadata": {},
     "output_type": "execute_result"
    }
   ],
   "source": [
    "samples_ds = data.generate_samples(audio_ds, batch=3)\n",
    "[((a[0].shape,a[1]),(b[0].shape,b[1])) for a,b in samples_ds.as_numpy_iterator()]"
   ]
  },
  {
   "cell_type": "code",
   "execution_count": 137,
   "metadata": {},
   "outputs": [],
   "source": [
    "def convert(elem):\n",
    "        try: return elem.shape\n",
    "        except:\n",
    "            if isinstance(elem, list):\n",
    "                return to_shapes(elem)\n",
    "            elif isinstance(elem, tuple):\n",
    "                return tuple(to_shapes(elem))\n",
    "            else: return elem\n",
    "def to_shapes(lst):\n",
    "    return [convert(elem) for elem in lst]"
   ]
  },
  {
   "cell_type": "code",
   "execution_count": 147,
   "metadata": {
    "scrolled": true
   },
   "outputs": [
    {
     "data": {
      "text/plain": [
       "[(((8000, 1), (8000, 1)), (((3, 115715, 1), (3,)), ((3, 115715, 1), (3,)))),\n",
       " (((8000, 1), (8000, 1)), (((3, 103896, 1), (3,)), ((3, 103896, 1), (3,)))),\n",
       " (((8000, 1), (8000, 1)), (((3, 115715, 1), (3,)), ((3, 115715, 1), (3,)))),\n",
       " (((8000, 1), (8000, 1)), (((3, 103896, 1), (3,)), ((3, 103896, 1), (3,)))),\n",
       " (((8000, 1), (8000, 1)), (((3, 115715, 1), (3,)), ((3, 115715, 1), (3,)))),\n",
       " (((8000, 1), (8000, 1)), (((3, 103896, 1), (3,)), ((3, 103896, 1), (3,)))),\n",
       " (((8000, 1), (8000, 1)), (((3, 115715, 1), (3,)), ((3, 115715, 1), (3,)))),\n",
       " (((8000, 1), (8000, 1)), (((3, 103896, 1), (3,)), ((3, 103896, 1), (3,)))),\n",
       " (((8000, 1), (8000, 1)), (((3, 115715, 1), (3,)), ((3, 115715, 1), (3,)))),\n",
       " (((8000, 1), (8000, 1)), (((3, 103896, 1), (3,)), ((3, 103896, 1), (3,)))),\n",
       " (((8000, 1), (8000, 1)), (((3, 115715, 1), (3,)), ((3, 115715, 1), (3,)))),\n",
       " (((8000, 1), (8000, 1)), (((3, 103896, 1), (3,)), ((3, 103896, 1), (3,)))),\n",
       " (((8000, 1), (8000, 1)), (((3, 115715, 1), (3,)), ((3, 115715, 1), (3,)))),\n",
       " (((8000, 1), (8000, 1)), (((3, 103896, 1), (3,)), ((3, 103896, 1), (3,)))),\n",
       " (((8000, 1), (8000, 1)), (((3, 115715, 1), (3,)), ((3, 115715, 1), (3,)))),\n",
       " (((8000, 1), (8000, 1)), (((3, 103896, 1), (3,)), ((3, 103896, 1), (3,)))),\n",
       " (((8000, 1), (8000, 1)), (((3, 115715, 1), (3,)), ((3, 115715, 1), (3,)))),\n",
       " (((8000, 1), (8000, 1)), (((3, 103896, 1), (3,)), ((3, 103896, 1), (3,)))),\n",
       " (((8000, 1), (8000, 1)), (((3, 115715, 1), (3,)), ((3, 115715, 1), (3,)))),\n",
       " (((8000, 1), (8000, 1)), (((3, 103896, 1), (3,)), ((3, 103896, 1), (3,)))),\n",
       " (((8000, 1), (8000, 1)), (((3, 115715, 1), (3,)), ((3, 115715, 1), (3,)))),\n",
       " (((8000, 1), (8000, 1)), (((3, 103896, 1), (3,)), ((3, 103896, 1), (3,)))),\n",
       " (((8000, 1), (8000, 1)), (((3, 115715, 1), (3,)), ((3, 115715, 1), (3,)))),\n",
       " (((8000, 1), (8000, 1)), (((3, 103896, 1), (3,)), ((3, 103896, 1), (3,)))),\n",
       " (((8000, 1), (8000, 1)), (((3, 115715, 1), (3,)), ((3, 115715, 1), (3,)))),\n",
       " (((8000, 1), (8000, 1)), (((3, 103896, 1), (3,)), ((3, 103896, 1), (3,)))),\n",
       " (((8000, 1), (8000, 1)), (((3, 115715, 1), (3,)), ((3, 115715, 1), (3,)))),\n",
       " (((8000, 1), (8000, 1)), (((3, 103896, 1), (3,)), ((3, 103896, 1), (3,)))),\n",
       " (((8000, 1), (8000, 1)), (((3, 115715, 1), (3,)), ((3, 115715, 1), (3,)))),\n",
       " (((8000, 1), (8000, 1)), (((3, 103896, 1), (3,)), ((3, 103896, 1), (3,)))),\n",
       " (((8000, 1), (8000, 1)), (((3, 115715, 1), (3,)), ((3, 115715, 1), (3,)))),\n",
       " (((8000, 1), (8000, 1)), (((3, 103896, 1), (3,)), ((3, 103896, 1), (3,)))),\n",
       " (((8000, 1), (8000, 1)), (((3, 115715, 1), (3,)), ((3, 115715, 1), (3,)))),\n",
       " (((8000, 1), (8000, 1)), (((3, 103896, 1), (3,)), ((3, 103896, 1), (3,)))),\n",
       " (((8000, 1), (8000, 1)), (((3, 115715, 1), (3,)), ((3, 115715, 1), (3,)))),\n",
       " (((8000, 1), (8000, 1)), (((3, 103896, 1), (3,)), ((3, 103896, 1), (3,))))]"
      ]
     },
     "execution_count": 147,
     "metadata": {},
     "output_type": "execute_result"
    }
   ],
   "source": [
    "combined_ds = Dataset.zip((examples_ds, samples_ds.repeat()))\n",
    "to_shapes(combined_ds.as_numpy_iterator())"
   ]
  },
  {
   "cell_type": "code",
   "execution_count": 155,
   "metadata": {
    "scrolled": true
   },
   "outputs": [
    {
     "data": {
      "text/plain": [
       "<tf.Tensor: shape=(10, 3, 1), dtype=int32, numpy=\n",
       "array([[[ 0],\n",
       "        [ 1],\n",
       "        [ 2]],\n",
       "\n",
       "       [[ 1],\n",
       "        [ 2],\n",
       "        [ 3]],\n",
       "\n",
       "       [[ 2],\n",
       "        [ 3],\n",
       "        [ 4]],\n",
       "\n",
       "       [[ 3],\n",
       "        [ 4],\n",
       "        [ 5]],\n",
       "\n",
       "       [[ 4],\n",
       "        [ 5],\n",
       "        [ 6]],\n",
       "\n",
       "       [[ 5],\n",
       "        [ 6],\n",
       "        [ 7]],\n",
       "\n",
       "       [[ 6],\n",
       "        [ 7],\n",
       "        [ 8]],\n",
       "\n",
       "       [[ 7],\n",
       "        [ 8],\n",
       "        [ 9]],\n",
       "\n",
       "       [[ 8],\n",
       "        [ 9],\n",
       "        [10]],\n",
       "\n",
       "       [[ 9],\n",
       "        [10],\n",
       "        [11]]])>"
      ]
     },
     "execution_count": 155,
     "metadata": {},
     "output_type": "execute_result"
    }
   ],
   "source": [
    "max_steps = 3\n",
    "batch_size = 10\n",
    "\n",
    "# create the appropriate indices here\n",
    "indices = (tf.range(max_steps) +\n",
    "    tf.range(batch_size)[:,np.newaxis])[...,np.newaxis]\n",
    "indices"
   ]
  },
  {
   "cell_type": "code",
   "execution_count": 160,
   "metadata": {},
   "outputs": [
    {
     "data": {
      "text/plain": [
       "<tf.Tensor: shape=(6, 5), dtype=int32, numpy=\n",
       "array([[ 0,  1,  2,  3,  4],\n",
       "       [ 3,  4,  5,  6,  7],\n",
       "       [ 6,  7,  8,  9, 10],\n",
       "       [ 9, 10, 11, 12, 13],\n",
       "       [12, 13, 14, 15, 16],\n",
       "       [15, 16, 17, 18, 19]])>"
      ]
     },
     "execution_count": 160,
     "metadata": {},
     "output_type": "execute_result"
    }
   ],
   "source": [
    "length=5\n",
    "stride=3\n",
    "indices = tf.range(length)+tf.range(0,20-length+1,stride)[:,np.newaxis]\n",
    "indices"
   ]
  },
  {
   "cell_type": "code",
   "execution_count": 168,
   "metadata": {},
   "outputs": [
    {
     "name": "stdout",
     "output_type": "stream",
     "text": [
      "[[61]\n",
      " [55]\n",
      " [32]\n",
      " [35]\n",
      " [30]\n",
      " [10]\n",
      " [92]\n",
      " [48]\n",
      " [86]\n",
      " [28]\n",
      " [48]\n",
      " [43]\n",
      " [29]\n",
      " [46]\n",
      " [69]\n",
      " [88]\n",
      " [30]\n",
      " [10]\n",
      " [13]\n",
      " [78]]\n"
     ]
    },
    {
     "data": {
      "text/plain": [
       "<tf.Tensor: shape=(6, 5, 1), dtype=int32, numpy=\n",
       "array([[[61],\n",
       "        [55],\n",
       "        [32],\n",
       "        [35],\n",
       "        [30]],\n",
       "\n",
       "       [[35],\n",
       "        [30],\n",
       "        [10],\n",
       "        [92],\n",
       "        [48]],\n",
       "\n",
       "       [[92],\n",
       "        [48],\n",
       "        [86],\n",
       "        [28],\n",
       "        [48]],\n",
       "\n",
       "       [[28],\n",
       "        [48],\n",
       "        [43],\n",
       "        [29],\n",
       "        [46]],\n",
       "\n",
       "       [[29],\n",
       "        [46],\n",
       "        [69],\n",
       "        [88],\n",
       "        [30]],\n",
       "\n",
       "       [[88],\n",
       "        [30],\n",
       "        [10],\n",
       "        [13],\n",
       "        [78]]])>"
      ]
     },
     "execution_count": 168,
     "metadata": {},
     "output_type": "execute_result"
    }
   ],
   "source": [
    "x = np.random.randint(100,size=(20,1))\n",
    "print(x)\n",
    "tf.gather_nd(x, indices[...,np.newaxis])"
   ]
  },
  {
   "cell_type": "code",
   "execution_count": 179,
   "metadata": {},
   "outputs": [
    {
     "data": {
      "text/plain": [
       "((TensorSpec(shape=(None, 32000, None), dtype=tf.float32, name=None),\n",
       "  (TensorSpec(shape=(None, None), dtype=tf.float32, name=None),\n",
       "   TensorSpec(shape=(), dtype=tf.int32, name=None))),\n",
       " (TensorSpec(shape=(None, 32000, None), dtype=tf.float32, name=None),\n",
       "  (TensorSpec(shape=(None, None), dtype=tf.float32, name=None),\n",
       "   TensorSpec(shape=(), dtype=tf.int32, name=None))))"
      ]
     },
     "execution_count": 179,
     "metadata": {},
     "output_type": "execute_result"
    }
   ],
   "source": [
    "func_examples = lambda audio: data.extract_examples_static(audio, 16000*2, 16000//2)\n",
    "func_sample = lambda t: (t,tf.shape(t)[0])\n",
    "combined_ds = audio_ds.map(data.apply(lambda audio: (func_examples(audio), func_sample(audio))))\n",
    "combined_ds.element_spec"
   ]
  },
  {
   "cell_type": "code",
   "execution_count": 180,
   "metadata": {},
   "outputs": [
    {
     "data": {
      "text/plain": [
       "[(((0, 32000, 1), ((31367, 1), ())), ((0, 32000, 1), ((31367, 1), ()))),\n",
       " (((3, 32000, 1), ((52086, 1), ())), ((3, 32000, 1), ((52086, 1), ()))),\n",
       " (((11, 32000, 1), ((115715, 1), ())), ((11, 32000, 1), ((115715, 1), ()))),\n",
       " (((6, 32000, 1), ((77781, 1), ())), ((6, 32000, 1), ((77781, 1), ()))),\n",
       " (((9, 32000, 1), ((103896, 1), ())), ((9, 32000, 1), ((103896, 1), ()))),\n",
       " (((7, 32000, 1), ((81271, 1), ())), ((7, 32000, 1), ((81271, 1), ())))]"
      ]
     },
     "execution_count": 180,
     "metadata": {},
     "output_type": "execute_result"
    }
   ],
   "source": [
    "to_shapes(combined_ds.as_numpy_iterator())"
   ]
  },
  {
   "cell_type": "code",
   "execution_count": 182,
   "metadata": {},
   "outputs": [
    {
     "data": {
      "text/plain": [
       "[(((3, 11, 32000, 1), ((3, 115715, 1), (3,))),\n",
       "  ((3, 11, 32000, 1), ((3, 115715, 1), (3,)))),\n",
       " (((3, 9, 32000, 1), ((3, 103896, 1), (3,))),\n",
       "  ((3, 9, 32000, 1), ((3, 103896, 1), (3,))))]"
      ]
     },
     "execution_count": 182,
     "metadata": {},
     "output_type": "execute_result"
    }
   ],
   "source": [
    "batched_ds = combined_ds.padded_batch(3)\n",
    "to_shapes(batched_ds.as_numpy_iterator())"
   ]
  },
  {
   "cell_type": "code",
   "execution_count": 194,
   "metadata": {},
   "outputs": [
    {
     "data": {
      "text/plain": [
       "[(((33, 32000, 1), ((3, 115715, 1), (3,))),\n",
       "  ((33, 32000, 1), ((3, 115715, 1), (3,)))),\n",
       " (((27, 32000, 1), ((3, 103896, 1), (3,))),\n",
       "  ((27, 32000, 1), ((3, 103896, 1), (3,))))]"
      ]
     },
     "execution_count": 194,
     "metadata": {},
     "output_type": "execute_result"
    }
   ],
   "source": [
    "ds = data.generate_dataset(files_ds, 16000*2, 16000//2, batch=3)\n",
    "to_shapes(ds.as_numpy_iterator())"
   ]
  }
 ],
 "metadata": {
  "kernelspec": {
   "display_name": "cuda",
   "language": "python",
   "name": "cuda"
  },
  "language_info": {
   "codemirror_mode": {
    "name": "ipython",
    "version": 3
   },
   "file_extension": ".py",
   "mimetype": "text/x-python",
   "name": "python",
   "nbconvert_exporter": "python",
   "pygments_lexer": "ipython3",
   "version": "3.8.6rc1"
  }
 },
 "nbformat": 4,
 "nbformat_minor": 4
}
